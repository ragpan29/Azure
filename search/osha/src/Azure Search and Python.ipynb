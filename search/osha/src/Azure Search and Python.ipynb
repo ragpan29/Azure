{
 "cells": [
  {
   "cell_type": "markdown",
   "metadata": {},
   "source": [
    "# Using Python in Azure Search\n",
    "\n",
    "Azure Search is a Full-Text Search engine inside of Azure built on top of the Apache Lucene project.\n",
    "\n",
    "There is a REST API exposed that allows you to administer and query your search index.\n",
    "\n",
    "This notebook shows the basics of:\n",
    "\n",
    "* Creating an index\n",
    "* Loading data to an index\n",
    "* Querying that index (and using a few parameters in the queries).\n",
    "* Using Search Profiles to boost pages\n",
    "\n",
    "It all boils down to following a template JSON (in Python, using requests, you can just use dictionaries).  I have included links to Microsoft documentation for each section."
   ]
  },
  {
   "cell_type": "markdown",
   "metadata": {},
   "source": [
    "### Setting up the Environment\n",
    "\n",
    "You'll need to create an Azure Search Service before executing this script.  The accompanying powershell script will launch an Azure Search Service called osha and resolve to osha.search.windows.net.  It will also pull the admin secret key that we will use to create the index.  The powershell script will pull that key into a file called config.config.  \n",
    "\n",
    "For production use, you should consider generating \"**Query Keys**\" which are read-only access to your Azure Search Service.\n",
    "\n",
    "Lastly, we manually specify the API version here and it may change in later updates.  Find more here: https://docs.microsoft.com/en-us/azure/search/search-api-versions"
   ]
  },
  {
   "cell_type": "code",
   "execution_count": 1,
   "metadata": {},
   "outputs": [],
   "source": [
    "URL = 'https://osha2.search.windows.net'\n",
    "with open('./config.config', 'r') as f:\n",
    "    KEY = f.read()\n",
    "INDEX_NAME = 'sicdesc'\n",
    "\n",
    "API = '2016-09-01'\n",
    "headers = {'content-type': 'application/json', 'api-key': KEY}\n",
    "\n",
    "index_url = ''.join([URL, '/indexes/',INDEX_NAME,'?api-version=',API])"
   ]
  },
  {
   "cell_type": "code",
   "execution_count": 2,
   "metadata": {},
   "outputs": [],
   "source": [
    "import json\n",
    "import requests\n",
    "import os\n",
    "import re\n",
    "import datetime\n",
    "import random"
   ]
  },
  {
   "cell_type": "markdown",
   "metadata": {},
   "source": [
    "The packages json and requests are the core of the REST API work.  The remaining packages are used for working with the demo data.\n",
    "\n",
    "The first steps below is to create a dictionary that will eventually be our search index."
   ]
  },
  {
   "cell_type": "code",
   "execution_count": 3,
   "metadata": {},
   "outputs": [],
   "source": [
    "azure_index = dict()\n",
    "azure_index[\"name\"] = INDEX_NAME"
   ]
  },
  {
   "cell_type": "markdown",
   "metadata": {},
   "source": [
    "Within the index, you have to define the field:\n",
    "* name - The name of the field.\n",
    "* type - one of these options:\n",
    " * Edm.String\n",
    " * Collection(Edm.String)\n",
    " * Edm.Boolean\n",
    " * Edm.Int32\n",
    " * Edm.Int64\n",
    " * Edm.Double\n",
    " * Edm.DateTimeOffset\n",
    " * Edm.GeographyPoint\n",
    "* retrievable - Do you get this data back?  Defaults to true\n",
    "* searchable - Should content in this field be broken up and used in searching?  Defaults to true\n",
    "* filterable - Should content not be broken up?  Exact match filter of results.\n",
    "* sortable - Allows for sorting\n",
    "* facetable\n",
    "* key - Is it a key?  Can also be used to look up documents directly (https://docs.microsoft.com/en-us/rest/api/searchservice/lookup-document)\n",
    "\n",
    "More information on creating an index can be found here: https://docs.microsoft.com/en-us/rest/api/searchservice/create-index"
   ]
  },
  {
   "cell_type": "code",
   "execution_count": 4,
   "metadata": {},
   "outputs": [],
   "source": [
    "azure_index[\"fields\"] = [\n",
    "       {\"name\": \"sic4\", \"type\": \"Edm.String\", \"key\":True, \"searchable\": True},\n",
    "       {\"name\": \"sic4title\", \"type\": \"Edm.String\",\"filterable\": False, \"sortable\": False, \"facetable\": False},\n",
    "       {\"name\": \"content\", \"type\": \"Edm.String\", \"filterable\": False, \"sortable\": False, \"facetable\": False, 'retrievable':False},\n",
    "       {\"name\": \"oshaURL\", \"type\": \"Edm.String\", \"filterable\": False, \"sortable\": False, \"facetable\": False},\n",
    "       {\"name\": \"sic2\", \"type\": \"Edm.String\", \"searchable\": False},\n",
    "       {\"name\": \"updateDate\", \"type\": \"Edm.DateTimeOffset\", \"searchable\": False,\"facetable\":False},\n",
    "      ]"
   ]
  },
  {
   "cell_type": "markdown",
   "metadata": {},
   "source": [
    "### Scoring Profiles\n",
    "\n",
    "A scoring profile allows you to augment the relevancy score of each document.  In the case below, I am boosting any page that was updated in the last 60 days by a huge amount (boost: 1000).  The \"interpolation\" attribute controls the effect over a range of values.  In this case, I'm using **linear** so a one day difference is the same across the past 60 days.  Other options like Quadratic and Log10 would have greater differences between documents in the middle than documents at the end.\n",
    "\n",
    "More here: https://docs.microsoft.com/en-us/rest/api/searchservice/add-scoring-profiles-to-a-search-index"
   ]
  },
  {
   "cell_type": "code",
   "execution_count": 5,
   "metadata": {},
   "outputs": [],
   "source": [
    "azure_index[\"scoringProfiles\"] = []\n",
    "\n",
    "scoreProfile = dict()\n",
    "\n",
    "scoreProfile[\"name\"] = \"newerPages\"\n",
    "scoreProfile[\"functions\"] = []\n",
    "\n",
    "score_func = {\"type\": \"freshness\", \"fieldName\": \"updateDate\", \"boost\": 1000,\\\n",
    "              \"interpolation\": \"linear\",\\\n",
    "              \"freshness\": {\"boostingDuration\": \"P60D\"}\n",
    "             }\n",
    "\n",
    "scoreProfile[\"functions\"].append(score_func)\n",
    "\n",
    "azure_index[\"scoringProfiles\"].append(scoreProfile)"
   ]
  },
  {
   "cell_type": "markdown",
   "metadata": {},
   "source": [
    "## Drop the Index (In Case it Exists)\n",
    "\n",
    "A status code of 204 is a successful drop of the index with no content being returned."
   ]
  },
  {
   "cell_type": "code",
   "execution_count": 6,
   "metadata": {},
   "outputs": [],
   "source": [
    "drop = requests.delete(index_url, headers=headers)"
   ]
  },
  {
   "cell_type": "code",
   "execution_count": 7,
   "metadata": {},
   "outputs": [
    {
     "name": "stdout",
     "output_type": "stream",
     "text": [
      "204\n",
      "b''\n"
     ]
    }
   ],
   "source": [
    "print(drop.status_code)\n",
    "print(drop.content)"
   ]
  },
  {
   "cell_type": "markdown",
   "metadata": {},
   "source": [
    "## Put the Index\n",
    "\n",
    "In order to create the initial index, we PUT the azure_index dictionary as a json file to the index_url.\n",
    "\n",
    "A status code of 201 means a successful creation of the index."
   ]
  },
  {
   "cell_type": "code",
   "execution_count": 8,
   "metadata": {},
   "outputs": [],
   "source": [
    "json_index = json.dumps(azure_index, ensure_ascii=False,indent=2)"
   ]
  },
  {
   "cell_type": "code",
   "execution_count": 9,
   "metadata": {},
   "outputs": [],
   "source": [
    "put_index = requests.put(index_url, headers=headers, data = json_index)"
   ]
  },
  {
   "cell_type": "code",
   "execution_count": 10,
   "metadata": {},
   "outputs": [
    {
     "name": "stdout",
     "output_type": "stream",
     "text": [
      "201\n",
      "b'{\"@odata.context\":\"https://osha2.search.windows.net/$metadata#indexes/$entity\",\"@odata.etag\":\"\\\\\"0x8D562B32B6551E9\\\\\"\",\"name\":\"sicdesc\",\"fields\":[{\"name\":\"sic4\",\"type\":\"Edm.String\",\"searchable\":true,\"filterable\":true,\"retrievable\":true,\"sortable\":true,\"facetable\":true,\"key\":true,\"indexAnalyzer\":null,\"searchAnalyzer\":null,\"analyzer\":null},{\"name\":\"sic4title\",\"type\":\"Edm.String\",\"searchable\":true,\"filterable\":false,\"retrievable\":true,\"sortable\":false,\"facetable\":false,\"key\":false,\"indexAnalyzer\":null,\"searchAnalyzer\":null,\"analyzer\":null},{\"name\":\"content\",\"type\":\"Edm.String\",\"searchable\":true,\"filterable\":false,\"retrievable\":false,\"sortable\":false,\"facetable\":false,\"key\":false,\"indexAnalyzer\":null,\"searchAnalyzer\":null,\"analyzer\":null},{\"name\":\"oshaURL\",\"type\":\"Edm.String\",\"searchable\":true,\"filterable\":false,\"retrievable\":true,\"sortable\":false,\"facetable\":false,\"key\":false,\"indexAnalyzer\":null,\"searchAnalyzer\":null,\"analyzer\":null},{\"name\":\"sic2\",\"type\":\"Edm.String\",\"searchable\":false,\"filterable\":true,\"retrievable\":true,\"sortable\":true,\"facetable\":true,\"key\":false,\"indexAnalyzer\":null,\"searchAnalyzer\":null,\"analyzer\":null},{\"name\":\"updateDate\",\"type\":\"Edm.DateTimeOffset\",\"searchable\":false,\"filterable\":true,\"retrievable\":true,\"sortable\":true,\"facetable\":false,\"key\":false,\"indexAnalyzer\":null,\"searchAnalyzer\":null,\"analyzer\":null}],\"scoringProfiles\":[{\"name\":\"newerPages\",\"text\":null,\"functions\":[{\"fieldName\":\"updateDate\",\"freshness\":{\"boostingDuration\":\"P60D\"},\"interpolation\":\"linear\",\"magnitude\":null,\"distance\":null,\"tag\":null,\"type\":\"freshness\",\"boost\":1000.0}],\"functionAggregation\":\"sum\"}],\"defaultScoringProfile\":null,\"corsOptions\":null,\"suggesters\":[],\"analyzers\":[],\"tokenizers\":[],\"tokenFilters\":[],\"charFilters\":[]}'\n"
     ]
    }
   ],
   "source": [
    "print(put_index.status_code)\n",
    "print(put_index.content)"
   ]
  },
  {
   "cell_type": "markdown",
   "metadata": {},
   "source": [
    "## Adding Content to the Index"
   ]
  },
  {
   "cell_type": "markdown",
   "metadata": {},
   "source": [
    "The next step is to get the documents into the index.\n",
    "\n",
    "We must POST the data as a json object to the index_url.  Each field must be represented and a \"@search.action\" must be set as \"upload\" on every entry.\n",
    "\n",
    "In this example, the data is stored in the /data folder.  For every page, we'll need to create an entry and fill in the values for each element of the index."
   ]
  },
  {
   "cell_type": "code",
   "execution_count": 11,
   "metadata": {},
   "outputs": [],
   "source": [
    "content_url = ''.join([URL, '/indexes/',INDEX_NAME,'/docs/index?api-version=',API])"
   ]
  },
  {
   "cell_type": "code",
   "execution_count": 12,
   "metadata": {},
   "outputs": [],
   "source": [
    "files = os.listdir('.\\\\data')\n",
    "files_filtered = [file for file in files if re.match('Description_for_',file)]\n",
    "\n",
    "value = []"
   ]
  },
  {
   "cell_type": "markdown",
   "metadata": {},
   "source": [
    "As an example of boosting based on dates, a random \"updateDate\" is created for every page.  The months and days code below set up options for the random date generation."
   ]
  },
  {
   "cell_type": "code",
   "execution_count": 13,
   "metadata": {},
   "outputs": [],
   "source": [
    "months = list(range(1,13))\n",
    "days = list(range(1,29))"
   ]
  },
  {
   "cell_type": "code",
   "execution_count": 14,
   "metadata": {},
   "outputs": [],
   "source": [
    "random.seed(1)\n",
    "\n",
    "for file in files_filtered:\n",
    "    sic4 = file[16:20]\n",
    "    sic2 = file[16:18]\n",
    "    with open(os.path.join(os.getcwd(),'data',file), 'r') as f:\n",
    "        content = ''.join(f.readlines())\n",
    "    \n",
    "    h2_pattern = re.compile(r'<h2>(.*)</h2>')\n",
    "    \n",
    "    content_nonewlines = content.replace('\\n','')\n",
    "    \n",
    "    sic4title = re.findall(h2_pattern, content_nonewlines)[0].strip()\n",
    "    \n",
    "    updateDate = datetime.datetime(2017, random.choice(months), random.choice(days))\n",
    "    \n",
    "    file_dict = {\n",
    "        \"@search.action\": \"upload\",\n",
    "        \"sic4\": sic4,\n",
    "        \"sic4title\": sic4title,\n",
    "        \"content\": content,\n",
    "        \"oshaURL\": \"https://www.osha.gov/pls/imis/sic_manual.html\",\n",
    "        \"sic2\": sic2,\n",
    "        # Dates are DateTimeOffset based on the OData V4 standard\n",
    "        \"updateDate\":updateDate.strftime('%Y-%m-%dT%H:%M:%SZ')\n",
    "    }\n",
    "    value.append(file_dict)"
   ]
  },
  {
   "cell_type": "code",
   "execution_count": 15,
   "metadata": {},
   "outputs": [
    {
     "data": {
      "text/plain": [
       "{'@search.action': 'upload',\n",
       " 'content': '<div class=\"container\" id=\"maincontain\">\\n <!-- PLACE PAGE CODE BELOW\\nuse the code between the START BODY and END BODY comments-->\\n <div class=\"row-fluid\">\\n  <h2>\\n   Description for 0111: Wheat\\n  </h2>\\n  <p>\\n   <a href=\"sic_manual.display?id=1&amp;tab=division\" title=\"Division A: Agriculture, Forestry, And Fishing\">\\n    Division A: Agriculture, Forestry, And Fishing\\n   </a>\\n   <strong>\\n    |\\n   </strong>\\n   <a href=\"sic_manual.display?id=1&amp;tab=group\" title=\"Major Group 01: Agricultural Production Crops\">\\n    Major Group 01: Agricultural Production Crops\\n   </a>\\n  </p>\\n  <p>\\n   Industry Group 011: Cash Grains\\n  </p>\\n  <hr/>\\n  0111 Wheat\\n  <div>\\n   <span class=\"blueTen\">\\n    Establishments primarily engaged in the production of wheat.\\n   </span>\\n   <ul>\\n    <li>\\n     Wheat farms\\n    </li>\\n   </ul>\\n  </div>\\n  <br/>\\n  <hr/>\\n  <p class=\"text-center\">\\n  </p>\\n  <div class=\"text-center\">\\n   <a class=\"btn btn-small btn-info\" href=\"/pls/imis/sicsearch.html\" title=\"SIC Search\">\\n    SIC Search\\n   </a>\\n   <a class=\"btn btn-small btn-info\" href=\"sic_manual.html\" title=\"Division Structure\">\\n    Division Structure\\n   </a>\\n   <a class=\"btn btn-small btn-info\" href=\"sic_manual.display?id=1&amp;tab=group\" title=\"Major Group Structure\">\\n    Major Group Structure\\n   </a>\\n  </div>\\n  <p>\\n  </p>\\n </div>\\n <!--end MAIN .row-fluid -->\\n <!-- END PLACED CODE -->\\n</div>\\n',\n",
       " 'oshaURL': 'https://www.osha.gov/pls/imis/sic_manual.html',\n",
       " 'sic2': '01',\n",
       " 'sic4': '0111',\n",
       " 'sic4title': 'Description for 0111: Wheat',\n",
       " 'updateDate': '2017-03-19T00:00:00Z'}"
      ]
     },
     "execution_count": 15,
     "metadata": {},
     "output_type": "execute_result"
    }
   ],
   "source": [
    "value[0]"
   ]
  },
  {
   "cell_type": "markdown",
   "metadata": {},
   "source": [
    "### Loading the data to the index with POST\n",
    "\n",
    "You are limited to 1,000 or fewer documents in a single request.  This example has 1,005 so two batches are sent."
   ]
  },
  {
   "cell_type": "code",
   "execution_count": 16,
   "metadata": {},
   "outputs": [
    {
     "name": "stdout",
     "output_type": "stream",
     "text": [
      "0-1000\n",
      "Status Code:200\n",
      "1000-2000\n",
      "Status Code:200\n"
     ]
    }
   ],
   "source": [
    "units_of_1k = int(round(len(value)/1000,0))\n",
    "remainder = len(value) % 1000\n",
    "\n",
    "if len(value) < 1000:\n",
    "    units_of_1k = 1\n",
    "elif remainder != 0:\n",
    "    units_of_1k+=1\n",
    "\n",
    "for x in range(units_of_1k):\n",
    "    start = x*1000\n",
    "    end = x*1000+1000\n",
    "    print(str(start)+'-'+str(end))\n",
    "    \n",
    "    json_value = json.dumps({'value':value[start:end]}, ensure_ascii=False,indent=2)\n",
    "    post_value = requests.post(content_url, headers=headers, data = json_value)\n",
    "    \n",
    "    print('Status Code:'+str(post_value.status_code))"
   ]
  },
  {
   "cell_type": "markdown",
   "metadata": {},
   "source": [
    "## Query the Index\n",
    "\n",
    "Using the GET verb and updating the url to be https://app-name.search.windows.net/indexes/index-name/docs?search=\n",
    "\n",
    "https://docs.microsoft.com/en-us/rest/api/searchservice/Search-Documents\n",
    "\n",
    "The search and $top parameters are used in this initial query to search for the token '7389' and return the top 2 results."
   ]
  },
  {
   "cell_type": "code",
   "execution_count": 17,
   "metadata": {},
   "outputs": [],
   "source": [
    "QUERY = '7389'\n",
    "search = {'search':QUERY,'$top':2}\n",
    "search_url = ''.join([URL, '/indexes/',INDEX_NAME,'/docs?api-version=',API])"
   ]
  },
  {
   "cell_type": "code",
   "execution_count": 18,
   "metadata": {},
   "outputs": [],
   "source": [
    "results = requests.get(search_url, params=search,headers=headers)"
   ]
  },
  {
   "cell_type": "code",
   "execution_count": 19,
   "metadata": {},
   "outputs": [
    {
     "data": {
      "text/plain": [
       "{'@odata.context': \"https://osha2.search.windows.net/indexes('sicdesc')/$metadata#docs\",\n",
       " 'value': [{'@search.score': 3.068583,\n",
       "   'oshaURL': 'https://www.osha.gov/pls/imis/sic_manual.html',\n",
       "   'sic2': '73',\n",
       "   'sic4': '7389',\n",
       "   'sic4title': 'Description for 7389: Business Services, Not Elsewhere Classified',\n",
       "   'updateDate': '2017-10-17T00:00:00Z'},\n",
       "  {'@search.score': 0.14266038,\n",
       "   'oshaURL': 'https://www.osha.gov/pls/imis/sic_manual.html',\n",
       "   'sic2': '86',\n",
       "   'sic4': '8651',\n",
       "   'sic4title': 'Description for 8651: Political Organizations',\n",
       "   'updateDate': '2017-06-25T00:00:00Z'}]}"
      ]
     },
     "execution_count": 19,
     "metadata": {},
     "output_type": "execute_result"
    }
   ],
   "source": [
    "results.json()"
   ]
  },
  {
   "cell_type": "markdown",
   "metadata": {},
   "source": [
    "### Lookup with a Key Only\n",
    "\n",
    "If you are using the key field, you can look up documents directly."
   ]
  },
  {
   "cell_type": "code",
   "execution_count": 20,
   "metadata": {},
   "outputs": [
    {
     "data": {
      "text/plain": [
       "{'@odata.context': \"https://osha2.search.windows.net/indexes('sicdesc')/$metadata#docs/$entity\",\n",
       " 'oshaURL': 'https://www.osha.gov/pls/imis/sic_manual.html',\n",
       " 'sic2': '73',\n",
       " 'sic4': '7389',\n",
       " 'sic4title': 'Description for 7389: Business Services, Not Elsewhere Classified',\n",
       " 'updateDate': '2017-10-17T00:00:00Z'}"
      ]
     },
     "execution_count": 20,
     "metadata": {},
     "output_type": "execute_result"
    }
   ],
   "source": [
    "search_key = {'key':'7389'}\n",
    "key_results = requests.get(search_url, params=search_key,headers=headers)\n",
    "key_results.json()"
   ]
  },
  {
   "cell_type": "markdown",
   "metadata": {},
   "source": [
    "### Change the sort\n",
    "\n",
    "The $orderby parameter can be used to sort the results.\n",
    "\n",
    "In this case, notice that the best page isn't even in the result set.  The Top N is performed after the sorting."
   ]
  },
  {
   "cell_type": "code",
   "execution_count": 21,
   "metadata": {},
   "outputs": [
    {
     "data": {
      "text/plain": [
       "{'@odata.context': \"https://osha2.search.windows.net/indexes('sicdesc')/$metadata#docs\",\n",
       " 'value': [{'@search.score': 0.0840453,\n",
       "   'oshaURL': 'https://www.osha.gov/pls/imis/sic_manual.html',\n",
       "   'sic2': '39',\n",
       "   'sic4': '3993',\n",
       "   'sic4title': 'Description for 3993: Signs and Advertising Specialties',\n",
       "   'updateDate': '2017-09-02T00:00:00Z'},\n",
       "  {'@search.score': 0.12525646,\n",
       "   'oshaURL': 'https://www.osha.gov/pls/imis/sic_manual.html',\n",
       "   'sic2': '42',\n",
       "   'sic4': '4225',\n",
       "   'sic4title': 'Description for 4225: General Warehousing and Storage',\n",
       "   'updateDate': '2017-09-02T00:00:00Z'},\n",
       "  {'@search.score': 0.1324496,\n",
       "   'oshaURL': 'https://www.osha.gov/pls/imis/sic_manual.html',\n",
       "   'sic2': '47',\n",
       "   'sic4': '4783',\n",
       "   'sic4title': 'Description for 4783: Packing and Crating',\n",
       "   'updateDate': '2017-09-18T00:00:00Z'},\n",
       "  {'@search.score': 0.0840453,\n",
       "   'oshaURL': 'https://www.osha.gov/pls/imis/sic_manual.html',\n",
       "   'sic2': '48',\n",
       "   'sic4': '4813',\n",
       "   'sic4title': 'Description for 4813: Telephone Communications, Except Radiotelephone',\n",
       "   'updateDate': '2017-06-13T00:00:00Z'},\n",
       "  {'@search.score': 0.10787979,\n",
       "   'oshaURL': 'https://www.osha.gov/pls/imis/sic_manual.html',\n",
       "   'sic2': '48',\n",
       "   'sic4': '4812',\n",
       "   'sic4title': 'Description for 4812: Radiotelephone Communications',\n",
       "   'updateDate': '2017-03-07T00:00:00Z'}]}"
      ]
     },
     "execution_count": 21,
     "metadata": {},
     "output_type": "execute_result"
    }
   ],
   "source": [
    "QUERY = '7389'\n",
    "search_sort = {'search':QUERY,'$top':5,'$orderby':'sic2,sic4 desc'}\n",
    "sort_results = requests.get(search_url, params=search_sort,headers=headers)\n",
    "sort_results.json()"
   ]
  },
  {
   "cell_type": "markdown",
   "metadata": {},
   "source": [
    "### Filter the Results\n",
    "\n",
    "The filter happens before the top N are returned as well.  The filter language consists of gt, lt, eq, ne, ge, le.  More information can be found here: https://docs.microsoft.com/en-us/rest/api/searchservice/odata-expression-syntax-for-azure-search"
   ]
  },
  {
   "cell_type": "code",
   "execution_count": 22,
   "metadata": {},
   "outputs": [
    {
     "data": {
      "text/plain": [
       "{'@odata.context': \"https://osha2.search.windows.net/indexes('sicdesc')/$metadata#docs\",\n",
       " 'value': [{'@search.score': 0.060283564,\n",
       "   'oshaURL': 'https://www.osha.gov/pls/imis/sic_manual.html',\n",
       "   'sic2': '59',\n",
       "   'sic4': '5999',\n",
       "   'sic4title': 'Description for 5999: Miscellaneous Retail Stores, Not Elsewhere Classified',\n",
       "   'updateDate': '2017-05-22T00:00:00Z'},\n",
       "  {'@search.score': 3.068583,\n",
       "   'oshaURL': 'https://www.osha.gov/pls/imis/sic_manual.html',\n",
       "   'sic2': '73',\n",
       "   'sic4': '7389',\n",
       "   'sic4title': 'Description for 7389: Business Services, Not Elsewhere Classified',\n",
       "   'updateDate': '2017-10-17T00:00:00Z'},\n",
       "  {'@search.score': 0.10398239,\n",
       "   'oshaURL': 'https://www.osha.gov/pls/imis/sic_manual.html',\n",
       "   'sic2': '73',\n",
       "   'sic4': '7336',\n",
       "   'sic4title': 'Description for 7336: Commercial Art and Graphic Design',\n",
       "   'updateDate': '2017-01-12T00:00:00Z'},\n",
       "  {'@search.score': 0.11139457,\n",
       "   'oshaURL': 'https://www.osha.gov/pls/imis/sic_manual.html',\n",
       "   'sic2': '73',\n",
       "   'sic4': '7335',\n",
       "   'sic4title': 'Description for 7335: Commercial Photography',\n",
       "   'updateDate': '2017-05-17T00:00:00Z'},\n",
       "  {'@search.score': 0.12178051,\n",
       "   'oshaURL': 'https://www.osha.gov/pls/imis/sic_manual.html',\n",
       "   'sic2': '73',\n",
       "   'sic4': '7334',\n",
       "   'sic4title': 'Description for 7334: Photocopying and Duplicating Services',\n",
       "   'updateDate': '2017-06-08T00:00:00Z'}]}"
      ]
     },
     "execution_count": 22,
     "metadata": {},
     "output_type": "execute_result"
    }
   ],
   "source": [
    "QUERY = '7389'\n",
    "search_sort = {'search':QUERY,'$top':5,'$orderby':'sic2,sic4 desc','$filter':\"sic2 gt '50' and sic2 lt '80'\"}\n",
    "sort_results = requests.get(search_url, params=search_sort,headers=headers)\n",
    "sort_results.json()"
   ]
  },
  {
   "cell_type": "markdown",
   "metadata": {},
   "source": [
    "### Facet the Results\n",
    "\n",
    "Faceting provides a count by each of distinct values for the facet after taking into account filters.  You can use this information to provide feedback to the user for searching criteria."
   ]
  },
  {
   "cell_type": "code",
   "execution_count": 23,
   "metadata": {},
   "outputs": [
    {
     "data": {
      "text/plain": [
       "{'@odata.context': \"https://osha2.search.windows.net/indexes('sicdesc')/$metadata#docs\",\n",
       " '@search.facets': {'sic2': [{'count': 4, 'value': '73'},\n",
       "   {'count': 2, 'value': '48'},\n",
       "   {'count': 1, 'value': '39'},\n",
       "   {'count': 1, 'value': '42'},\n",
       "   {'count': 1, 'value': '47'},\n",
       "   {'count': 1, 'value': '59'}],\n",
       "  'sic2@odata.type': '#Collection(Microsoft.Azure.Search.V2016_09_01.QueryResultFacet)'},\n",
       " 'value': [{'@search.score': 3.068583,\n",
       "   'oshaURL': 'https://www.osha.gov/pls/imis/sic_manual.html',\n",
       "   'sic2': '73',\n",
       "   'sic4': '7389',\n",
       "   'sic4title': 'Description for 7389: Business Services, Not Elsewhere Classified',\n",
       "   'updateDate': '2017-10-17T00:00:00Z'},\n",
       "  {'@search.score': 0.1324496,\n",
       "   'oshaURL': 'https://www.osha.gov/pls/imis/sic_manual.html',\n",
       "   'sic2': '47',\n",
       "   'sic4': '4783',\n",
       "   'sic4title': 'Description for 4783: Packing and Crating',\n",
       "   'updateDate': '2017-09-18T00:00:00Z'},\n",
       "  {'@search.score': 0.12525646,\n",
       "   'oshaURL': 'https://www.osha.gov/pls/imis/sic_manual.html',\n",
       "   'sic2': '42',\n",
       "   'sic4': '4225',\n",
       "   'sic4title': 'Description for 4225: General Warehousing and Storage',\n",
       "   'updateDate': '2017-09-02T00:00:00Z'},\n",
       "  {'@search.score': 0.12178051,\n",
       "   'oshaURL': 'https://www.osha.gov/pls/imis/sic_manual.html',\n",
       "   'sic2': '73',\n",
       "   'sic4': '7334',\n",
       "   'sic4title': 'Description for 7334: Photocopying and Duplicating Services',\n",
       "   'updateDate': '2017-06-08T00:00:00Z'},\n",
       "  {'@search.score': 0.11139457,\n",
       "   'oshaURL': 'https://www.osha.gov/pls/imis/sic_manual.html',\n",
       "   'sic2': '73',\n",
       "   'sic4': '7335',\n",
       "   'sic4title': 'Description for 7335: Commercial Photography',\n",
       "   'updateDate': '2017-05-17T00:00:00Z'}]}"
      ]
     },
     "execution_count": 23,
     "metadata": {},
     "output_type": "execute_result"
    }
   ],
   "source": [
    "QUERY = '7389'\n",
    "search_facet = {'search':QUERY,'facet':'sic2','$top':5,'$filter':\"sic2 gt '10' and sic2 lt '80'\"}\n",
    "facet_results = requests.get(search_url, params=search_facet, headers=headers)\n",
    "facet_results.json()"
   ]
  },
  {
   "cell_type": "markdown",
   "metadata": {},
   "source": [
    "## Use Search Profile on the Index to Boost Pages\n",
    "\n",
    "Search profiles add different ways of creating relevancy scores.  For example, making more recently updated pages come up first.\n",
    "\n",
    "More on the Scoring Profiles: https://docs.microsoft.com/en-us/rest/api/searchservice/add-scoring-profiles-to-a-search-index\n",
    "\n",
    "In this example, I'm searching for \"bakery\" in the OSHA database and it turns up results based on the default TF-IDF scoring."
   ]
  },
  {
   "cell_type": "code",
   "execution_count": 24,
   "metadata": {},
   "outputs": [
    {
     "data": {
      "text/plain": [
       "{'@odata.context': \"https://osha2.search.windows.net/indexes('sicdesc')/$metadata#docs\",\n",
       " 'value': [{'@search.score': 1.0197592,\n",
       "   'oshaURL': 'https://www.osha.gov/pls/imis/sic_manual.html',\n",
       "   'sic2': '20',\n",
       "   'sic4': '2053',\n",
       "   'sic4title': 'Description for 2053: Frozen Bakery Products, Except Bread',\n",
       "   'updateDate': '2017-10-09T00:00:00Z'},\n",
       "  {'@search.score': 0.9104632,\n",
       "   'oshaURL': 'https://www.osha.gov/pls/imis/sic_manual.html',\n",
       "   'sic2': '20',\n",
       "   'sic4': '2051',\n",
       "   'sic4title': 'Description for 2051: Bread and Other Bakery Products, Except Cookies and Crackers',\n",
       "   'updateDate': '2017-05-24T00:00:00Z'},\n",
       "  {'@search.score': 0.19515699,\n",
       "   'oshaURL': 'https://www.osha.gov/pls/imis/sic_manual.html',\n",
       "   'sic2': '54',\n",
       "   'sic4': '5461',\n",
       "   'sic4title': 'Description for 5461: Retail Bakeries',\n",
       "   'updateDate': '2017-05-26T00:00:00Z'},\n",
       "  {'@search.score': 0.18454346,\n",
       "   'oshaURL': 'https://www.osha.gov/pls/imis/sic_manual.html',\n",
       "   'sic2': '20',\n",
       "   'sic4': '2052',\n",
       "   'sic4title': 'Description for 2052: Cookies and Crackers',\n",
       "   'updateDate': '2017-03-14T00:00:00Z'},\n",
       "  {'@search.score': 0.15043719,\n",
       "   'oshaURL': 'https://www.osha.gov/pls/imis/sic_manual.html',\n",
       "   'sic2': '35',\n",
       "   'sic4': '3567',\n",
       "   'sic4title': 'Description for 3567: Industrial Process Furnaces and Ovens',\n",
       "   'updateDate': '2017-02-03T00:00:00Z'},\n",
       "  {'@search.score': 0.13942689,\n",
       "   'oshaURL': 'https://www.osha.gov/pls/imis/sic_manual.html',\n",
       "   'sic2': '20',\n",
       "   'sic4': '2024',\n",
       "   'sic4title': 'Description for 2024: Ice Cream and Frozen Desserts',\n",
       "   'updateDate': '2017-09-22T00:00:00Z'},\n",
       "  {'@search.score': 0.11001283,\n",
       "   'oshaURL': 'https://www.osha.gov/pls/imis/sic_manual.html',\n",
       "   'sic2': '51',\n",
       "   'sic4': '5142',\n",
       "   'sic4title': 'Description for 5142: Packaged Frozen Foods',\n",
       "   'updateDate': '2017-07-17T00:00:00Z'},\n",
       "  {'@search.score': 0.102756575,\n",
       "   'oshaURL': 'https://www.osha.gov/pls/imis/sic_manual.html',\n",
       "   'sic2': '34',\n",
       "   'sic4': '3497',\n",
       "   'sic4title': 'Description for 3497: Metal Foil and Leaf',\n",
       "   'updateDate': '2017-08-24T00:00:00Z'},\n",
       "  {'@search.score': 0.09227173,\n",
       "   'oshaURL': 'https://www.osha.gov/pls/imis/sic_manual.html',\n",
       "   'sic2': '20',\n",
       "   'sic4': '2038',\n",
       "   'sic4title': 'Description for 2038: Frozen Specialties, Not Elsewhere Classified',\n",
       "   'updateDate': '2017-11-19T00:00:00Z'},\n",
       "  {'@search.score': 0.08595058,\n",
       "   'oshaURL': 'https://www.osha.gov/pls/imis/sic_manual.html',\n",
       "   'sic2': '35',\n",
       "   'sic4': '3556',\n",
       "   'sic4title': 'Description for 3556: Food Products Machinery',\n",
       "   'updateDate': '2017-12-06T00:00:00Z'}]}"
      ]
     },
     "execution_count": 24,
     "metadata": {},
     "output_type": "execute_result"
    }
   ],
   "source": [
    "QUERY = 'bakery'\n",
    "search_no_profile = {'search':QUERY,'$top':10}\n",
    "no_profile_results = requests.get(search_url, params=search_no_profile, headers=headers)\n",
    "no_profile_results.json()"
   ]
  },
  {
   "cell_type": "markdown",
   "metadata": {},
   "source": [
    "Next we use the 'newerPages' scoring profile defined when the index was initially created.  This will boost documents that were last updated in the past 60 days.  You can compare the two scores for SIC 3556 (updated 2017-12-06) and see the dramatic difference."
   ]
  },
  {
   "cell_type": "code",
   "execution_count": 25,
   "metadata": {},
   "outputs": [
    {
     "data": {
      "text/plain": [
       "{'@odata.context': \"https://osha2.search.windows.net/indexes('sicdesc')/$metadata#docs\",\n",
       " 'value': [{'@search.score': 15.90048,\n",
       "   'oshaURL': 'https://www.osha.gov/pls/imis/sic_manual.html',\n",
       "   'sic2': '35',\n",
       "   'sic4': '3556',\n",
       "   'sic4title': 'Description for 3556: Food Products Machinery',\n",
       "   'updateDate': '2017-12-06T00:00:00Z'},\n",
       "  {'@search.score': 1.0197592,\n",
       "   'oshaURL': 'https://www.osha.gov/pls/imis/sic_manual.html',\n",
       "   'sic2': '20',\n",
       "   'sic4': '2053',\n",
       "   'sic4title': 'Description for 2053: Frozen Bakery Products, Except Bread',\n",
       "   'updateDate': '2017-10-09T00:00:00Z'},\n",
       "  {'@search.score': 0.9104632,\n",
       "   'oshaURL': 'https://www.osha.gov/pls/imis/sic_manual.html',\n",
       "   'sic2': '20',\n",
       "   'sic4': '2051',\n",
       "   'sic4title': 'Description for 2051: Bread and Other Bakery Products, Except Cookies and Crackers',\n",
       "   'updateDate': '2017-05-24T00:00:00Z'},\n",
       "  {'@search.score': 0.19515699,\n",
       "   'oshaURL': 'https://www.osha.gov/pls/imis/sic_manual.html',\n",
       "   'sic2': '54',\n",
       "   'sic4': '5461',\n",
       "   'sic4title': 'Description for 5461: Retail Bakeries',\n",
       "   'updateDate': '2017-05-26T00:00:00Z'},\n",
       "  {'@search.score': 0.18454346,\n",
       "   'oshaURL': 'https://www.osha.gov/pls/imis/sic_manual.html',\n",
       "   'sic2': '20',\n",
       "   'sic4': '2052',\n",
       "   'sic4title': 'Description for 2052: Cookies and Crackers',\n",
       "   'updateDate': '2017-03-14T00:00:00Z'}]}"
      ]
     },
     "execution_count": 25,
     "metadata": {},
     "output_type": "execute_result"
    }
   ],
   "source": [
    "QUERY = 'bakery'\n",
    "search_bakery_profile = {'search':QUERY,'$top':5,'scoringProfile':'newerPages'}\n",
    "profile_results = requests.get(search_url, params=search_bakery_profile, headers=headers)\n",
    "profile_results.json()"
   ]
  },
  {
   "cell_type": "markdown",
   "metadata": {},
   "source": [
    "## Solving Synonyms\n",
    "\n",
    "Coming soon!  In Preview:\n",
    "\n",
    "More found here: https://docs.microsoft.com/en-us/rest/api/searchservice/create-synonym-map"
   ]
  },
  {
   "cell_type": "code",
   "execution_count": 26,
   "metadata": {},
   "outputs": [],
   "source": [
    "synoyms = \\\n",
    "\"\"\"bakery, baker\\n\n",
    "boat, yacht, pontoon, ship =>\n",
    "\"\"\""
   ]
  },
  {
   "cell_type": "code",
   "execution_count": 27,
   "metadata": {},
   "outputs": [],
   "source": [
    "json_syn = {\"name\" : \"basicsynonyms\",\n",
    " \"format\" : \"solr\", \n",
    " \"synonyms\" : synoyms\n",
    "}  "
   ]
  },
  {
   "cell_type": "code",
   "execution_count": 28,
   "metadata": {},
   "outputs": [],
   "source": [
    "#synonym_url = ''.join([URL, '//synonymmaps?api-version=',API])\n",
    "#post_synonym = requests.post(synonym_url, headers=headers, data = json_syn)"
   ]
  },
  {
   "cell_type": "code",
   "execution_count": 29,
   "metadata": {},
   "outputs": [],
   "source": [
    "#post_synonym.content"
   ]
  },
  {
   "cell_type": "code",
   "execution_count": 30,
   "metadata": {},
   "outputs": [],
   "source": [
    "#QUERY = 'baker'\n",
    "#search_baker1 = {'search':QUERY,'$top':5}\n",
    "#baker1_results = requests.get(search_url, params=search_baker1, headers=headers)\n",
    "#baker1_results.json()"
   ]
  },
  {
   "cell_type": "markdown",
   "metadata": {},
   "source": [
    "## Where to go from here?\n",
    "\n",
    "There are plenty of other options to look into like Language Understanding, advanced text analysis, transforming the data while building the index, etc.  The best way to learn it is to try it out and see what you can build!"
   ]
  }
 ],
 "metadata": {
  "kernelspec": {
   "display_name": "Python 3",
   "language": "python",
   "name": "python3"
  },
  "language_info": {
   "codemirror_mode": {
    "name": "ipython",
    "version": 3
   },
   "file_extension": ".py",
   "mimetype": "text/x-python",
   "name": "python",
   "nbconvert_exporter": "python",
   "pygments_lexer": "ipython3",
   "version": "3.6.4"
  }
 },
 "nbformat": 4,
 "nbformat_minor": 2
}
