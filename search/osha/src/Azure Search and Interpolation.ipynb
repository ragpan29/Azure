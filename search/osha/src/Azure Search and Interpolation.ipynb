{
 "cells": [
  {
   "cell_type": "markdown",
   "metadata": {},
   "source": [
    "# Understanding Interpolation\n",
    "\n",
    "This notebook works toward building an understanding of how the interpolation adjusts the scoring.\n",
    "\n",
    "We'll be trying Linear and Quadratic for exact copies of a document added multiple times to the index."
   ]
  },
  {
   "cell_type": "markdown",
   "metadata": {},
   "source": [
    "### Setting up the Environment\n",
    "\n",
    "You'll need to create an Azure Search Service before executing this script.  The accompanying powershell script will launch an Azure Search Service called osha and resolve to osha.search.windows.net.  It will also pull the admin secret key that we will use to create the index.  The powershell script will pull that key into a file called config.config.  \n",
    "\n",
    "For production use, you should consider generating \"**Query Keys**\" which are read-only access to your Azure Search Service.\n",
    "\n",
    "Lastly, we manually specify the API version here and it may change in later updates.  Find more here: https://docs.microsoft.com/en-us/azure/search/search-api-versions"
   ]
  },
  {
   "cell_type": "code",
   "execution_count": 1,
   "metadata": {},
   "outputs": [],
   "source": [
    "URL = 'https://osha2.search.windows.net'\n",
    "with open('./config.config', 'r') as f:\n",
    "    KEY = f.read()\n",
    "INDEX_NAME = 'interptest'\n",
    "\n",
    "API = '2016-09-01'\n",
    "headers = {'content-type': 'application/json', 'api-key': KEY}\n",
    "\n",
    "index_url = ''.join([URL, '/indexes/',INDEX_NAME,'?api-version=',API])"
   ]
  },
  {
   "cell_type": "code",
   "execution_count": 2,
   "metadata": {},
   "outputs": [],
   "source": [
    "import json\n",
    "import requests\n",
    "import os\n",
    "import re\n",
    "import datetime\n",
    "import random\n",
    "import pandas as pd\n",
    "import matplotlib.pyplot as plt"
   ]
  },
  {
   "cell_type": "markdown",
   "metadata": {},
   "source": [
    "The packages json and requests are the core of the REST API work.  The remaining packages are used for working with the demo data.\n",
    "\n",
    "The following steps set up an index and the specific fields used in the index."
   ]
  },
  {
   "cell_type": "code",
   "execution_count": 3,
   "metadata": {},
   "outputs": [],
   "source": [
    "azure_index = dict()\n",
    "azure_index[\"name\"] = INDEX_NAME"
   ]
  },
  {
   "cell_type": "code",
   "execution_count": 4,
   "metadata": {},
   "outputs": [],
   "source": [
    "azure_index[\"fields\"] = [\n",
    "       {\"name\": \"sic4\", \"type\": \"Edm.String\", \"key\":True, \"searchable\": True},\n",
    "       {\"name\": \"sic4title\", \"type\": \"Edm.String\",\"filterable\": False, \"sortable\": False, \"facetable\": False},\n",
    "       {\"name\": \"content\", \"type\": \"Edm.String\", \"filterable\": False, \"sortable\": False, \"facetable\": False, 'retrievable':False},\n",
    "       {\"name\": \"oshaURL\", \"type\": \"Edm.String\", \"filterable\": False, \"sortable\": False, \"facetable\": False},\n",
    "       {\"name\": \"sic2\", \"type\": \"Edm.String\", \"searchable\": False},\n",
    "       {\"name\": \"updateDate\", \"type\": \"Edm.DateTimeOffset\", \"searchable\": False,\"facetable\":False},\n",
    "      ]"
   ]
  },
  {
   "cell_type": "markdown",
   "metadata": {},
   "source": [
    "### Scoring Profiles\n",
    "\n",
    "A scoring profile allows you to augment the relevancy score of each document.  In the case below, I am boosting any page that was updated in the last 60 days by a huge amount (boost: 1000).  The \"interpolation\" attribute controls the effect over a range of values.  In this case, I'm using **linear** so a one day difference is the same across the past 60 days.  Other options like Quadratic and Log10 would have greater differences between documents in the middle than documents at the end.\n",
    "\n",
    "More here: https://docs.microsoft.com/en-us/rest/api/searchservice/add-scoring-profiles-to-a-search-index"
   ]
  },
  {
   "cell_type": "code",
   "execution_count": 5,
   "metadata": {},
   "outputs": [],
   "source": [
    "azure_index[\"scoringProfiles\"] = []"
   ]
  },
  {
   "cell_type": "markdown",
   "metadata": {},
   "source": [
    "This first score profile will be a **linear** boost based on the past 15 days."
   ]
  },
  {
   "cell_type": "code",
   "execution_count": 6,
   "metadata": {},
   "outputs": [],
   "source": [
    "scoreProfile = dict()\n",
    "\n",
    "scoreProfile[\"name\"] = \"newerPagesLIN\"\n",
    "scoreProfile[\"functions\"] = []\n",
    "\n",
    "score_func = {\"type\": \"freshness\", \"fieldName\": \"updateDate\", \"boost\": 10,\\\n",
    "              \"interpolation\": \"linear\",\\\n",
    "              \"freshness\": {\"boostingDuration\": \"P15D\"}\n",
    "             }\n",
    "\n",
    "scoreProfile[\"functions\"].append(score_func)"
   ]
  },
  {
   "cell_type": "markdown",
   "metadata": {},
   "source": [
    "This second score profile will be a **QUADRATIC** boost based on the past 15 days."
   ]
  },
  {
   "cell_type": "code",
   "execution_count": 7,
   "metadata": {},
   "outputs": [],
   "source": [
    "scoreProfile2 = dict()\n",
    "\n",
    "scoreProfile2[\"name\"] = \"newerPagesQUAD\"\n",
    "scoreProfile2[\"functions\"] = []\n",
    "\n",
    "score_func2 = {\"type\": \"freshness\", \"fieldName\": \"updateDate\", \"boost\": 10,\\\n",
    "              \"interpolation\": \"quadratic\",\\\n",
    "              \"freshness\": {\"boostingDuration\": \"P15D\"}\n",
    "             }\n",
    "\n",
    "scoreProfile2[\"functions\"].append(score_func2)"
   ]
  },
  {
   "cell_type": "code",
   "execution_count": 8,
   "metadata": {},
   "outputs": [],
   "source": [
    "azure_index[\"scoringProfiles\"].append(scoreProfile)\n",
    "azure_index[\"scoringProfiles\"].append(scoreProfile2)"
   ]
  },
  {
   "cell_type": "markdown",
   "metadata": {},
   "source": [
    "## Drop the Index (In Case it Exists)\n",
    "\n",
    "A status code of 204 is a successful drop of the index with no content being returned."
   ]
  },
  {
   "cell_type": "code",
   "execution_count": 9,
   "metadata": {},
   "outputs": [],
   "source": [
    "drop = requests.delete(index_url, headers=headers)"
   ]
  },
  {
   "cell_type": "code",
   "execution_count": 10,
   "metadata": {},
   "outputs": [
    {
     "name": "stdout",
     "output_type": "stream",
     "text": [
      "204\n",
      "b''\n"
     ]
    }
   ],
   "source": [
    "print(drop.status_code)\n",
    "print(drop.content)"
   ]
  },
  {
   "cell_type": "markdown",
   "metadata": {},
   "source": [
    "## Put the Index\n",
    "\n",
    "In order to create the initial index, we PUT the azure_index dictionary as a json file to the index_url.\n",
    "\n",
    "A status code of 201 means a successful creation of the index."
   ]
  },
  {
   "cell_type": "code",
   "execution_count": 11,
   "metadata": {},
   "outputs": [],
   "source": [
    "json_index = json.dumps(azure_index, ensure_ascii=False,indent=2)"
   ]
  },
  {
   "cell_type": "code",
   "execution_count": 12,
   "metadata": {},
   "outputs": [],
   "source": [
    "put_index = requests.put(index_url, headers=headers, data = json_index)"
   ]
  },
  {
   "cell_type": "code",
   "execution_count": 13,
   "metadata": {},
   "outputs": [
    {
     "name": "stdout",
     "output_type": "stream",
     "text": [
      "201\n",
      "b'{\"@odata.context\":\"https://osha2.search.windows.net/$metadata#indexes/$entity\",\"@odata.etag\":\"\\\\\"0x8D5636C687D7CB9\\\\\"\",\"name\":\"interptest\",\"fields\":[{\"name\":\"sic4\",\"type\":\"Edm.String\",\"searchable\":true,\"filterable\":true,\"retrievable\":true,\"sortable\":true,\"facetable\":true,\"key\":true,\"indexAnalyzer\":null,\"searchAnalyzer\":null,\"analyzer\":null},{\"name\":\"sic4title\",\"type\":\"Edm.String\",\"searchable\":true,\"filterable\":false,\"retrievable\":true,\"sortable\":false,\"facetable\":false,\"key\":false,\"indexAnalyzer\":null,\"searchAnalyzer\":null,\"analyzer\":null},{\"name\":\"content\",\"type\":\"Edm.String\",\"searchable\":true,\"filterable\":false,\"retrievable\":false,\"sortable\":false,\"facetable\":false,\"key\":false,\"indexAnalyzer\":null,\"searchAnalyzer\":null,\"analyzer\":null},{\"name\":\"oshaURL\",\"type\":\"Edm.String\",\"searchable\":true,\"filterable\":false,\"retrievable\":true,\"sortable\":false,\"facetable\":false,\"key\":false,\"indexAnalyzer\":null,\"searchAnalyzer\":null,\"analyzer\":null},{\"name\":\"sic2\",\"type\":\"Edm.String\",\"searchable\":false,\"filterable\":true,\"retrievable\":true,\"sortable\":true,\"facetable\":true,\"key\":false,\"indexAnalyzer\":null,\"searchAnalyzer\":null,\"analyzer\":null},{\"name\":\"updateDate\",\"type\":\"Edm.DateTimeOffset\",\"searchable\":false,\"filterable\":true,\"retrievable\":true,\"sortable\":true,\"facetable\":false,\"key\":false,\"indexAnalyzer\":null,\"searchAnalyzer\":null,\"analyzer\":null}],\"scoringProfiles\":[{\"name\":\"newerPagesLIN\",\"text\":null,\"functions\":[{\"fieldName\":\"updateDate\",\"freshness\":{\"boostingDuration\":\"P15D\"},\"interpolation\":\"linear\",\"magnitude\":null,\"distance\":null,\"tag\":null,\"type\":\"freshness\",\"boost\":10.0}],\"functionAggregation\":\"sum\"},{\"name\":\"newerPagesQUAD\",\"text\":null,\"functions\":[{\"fieldName\":\"updateDate\",\"freshness\":{\"boostingDuration\":\"P15D\"},\"interpolation\":\"quadratic\",\"magnitude\":null,\"distance\":null,\"tag\":null,\"type\":\"freshness\",\"boost\":10.0}],\"functionAggregation\":\"sum\"}],\"defaultScoringProfile\":null,\"corsOptions\":null,\"suggesters\":[],\"analyzers\":[],\"tokenizers\":[],\"tokenFilters\":[],\"charFilters\":[]}'\n"
     ]
    }
   ],
   "source": [
    "print(put_index.status_code)\n",
    "print(put_index.content)"
   ]
  },
  {
   "cell_type": "markdown",
   "metadata": {},
   "source": [
    "## Adding Content to the Index"
   ]
  },
  {
   "cell_type": "markdown",
   "metadata": {},
   "source": [
    "The next step is to get the documents into the index.\n",
    "\n",
    "We must POST the data as a json object to the index_url.  Each field must be represented and a \"@search.action\" must be set as \"upload\" on every entry.\n",
    "\n",
    "In this example, the data is stored in the /data folder.  For every page, we'll need to create an entry and fill in the values for each element of the index.\n",
    "\n",
    "For exploring the interpolation effect, we'll load **20 copies of the exact same file** up to Azure Search but the date timestamp associated with each file will be different."
   ]
  },
  {
   "cell_type": "code",
   "execution_count": 14,
   "metadata": {},
   "outputs": [],
   "source": [
    "content_url = ''.join([URL, '/indexes/',INDEX_NAME,'/docs/index?api-version=',API])"
   ]
  },
  {
   "cell_type": "code",
   "execution_count": 15,
   "metadata": {},
   "outputs": [],
   "source": [
    "files = os.listdir('.\\\\data')\n",
    "files_filtered = [file for file in files if re.match('Description_for_2053',file)]"
   ]
  },
  {
   "cell_type": "code",
   "execution_count": 16,
   "metadata": {},
   "outputs": [],
   "source": [
    "duplicate_files = [files_filtered[0] for x in range(0,20)]"
   ]
  },
  {
   "cell_type": "markdown",
   "metadata": {},
   "source": [
    "Now that we have duplicate documents each one will be considered \"updated\" a certain number of days ago.  Using today's date, a number of days will be subtracted and we should have a linear pattern we can follow in the search results."
   ]
  },
  {
   "cell_type": "code",
   "execution_count": 17,
   "metadata": {},
   "outputs": [],
   "source": [
    "today = datetime.datetime.now()"
   ]
  },
  {
   "cell_type": "code",
   "execution_count": 18,
   "metadata": {},
   "outputs": [],
   "source": [
    "value = []\n",
    "\n",
    "for dayOffset, file in enumerate(duplicate_files):\n",
    "    sic4 = file[16:20]\n",
    "    sic2 = file[16:18]\n",
    "    with open(os.path.join(os.getcwd(),'data',file), 'r') as f:\n",
    "        content = ''.join(f.readlines())\n",
    "    \n",
    "    h2_pattern = re.compile(r'<h2>(.*)</h2>')\n",
    "    \n",
    "    content_nonewlines = content.replace('\\n','')\n",
    "    \n",
    "    sic4title = re.findall(h2_pattern, content_nonewlines)[0].strip()\n",
    "    \n",
    "    updateDate = today - datetime.timedelta(days = dayOffset)\n",
    "    \n",
    "    file_dict = {\n",
    "        \"@search.action\": \"upload\",\n",
    "        \"sic4\": sic4+str(dayOffset),\n",
    "        \"sic4title\": sic4title,\n",
    "        \"content\": content,\n",
    "        \"oshaURL\": \"https://www.osha.gov/pls/imis/sic_manual.html\",\n",
    "        \"sic2\": sic2,\n",
    "        # Dates are DateTimeOffset based on the OData V4 standard\n",
    "        \"updateDate\":updateDate.strftime('%Y-%m-%dT%H:%M:%SZ')\n",
    "    }\n",
    "    value.append(file_dict)"
   ]
  },
  {
   "cell_type": "code",
   "execution_count": 19,
   "metadata": {},
   "outputs": [
    {
     "name": "stdout",
     "output_type": "stream",
     "text": [
      "2018-01-24T14:52:40Z\n",
      "2018-01-23T14:52:40Z\n",
      "2018-01-22T14:52:40Z\n"
     ]
    }
   ],
   "source": [
    "print(value[0][\"updateDate\"])\n",
    "print(value[1][\"updateDate\"])\n",
    "print(value[2][\"updateDate\"])"
   ]
  },
  {
   "cell_type": "markdown",
   "metadata": {},
   "source": [
    "### Loading the data to the index with POST\n",
    "\n",
    "You are limited to 1,000 or fewer documents in a single request.  In case you use this for more than 1,000 documents, this for loop should help throttle how much you add each time."
   ]
  },
  {
   "cell_type": "code",
   "execution_count": 20,
   "metadata": {},
   "outputs": [
    {
     "name": "stdout",
     "output_type": "stream",
     "text": [
      "0-1000\n",
      "Status Code:200\n"
     ]
    }
   ],
   "source": [
    "units_of_1k = int(round(len(value)/1000,0))\n",
    "remainder = len(value) % 1000\n",
    "\n",
    "if len(value) < 1000:\n",
    "    units_of_1k = 1\n",
    "elif remainder != 0:\n",
    "    units_of_1k+=1\n",
    "\n",
    "for x in range(units_of_1k):\n",
    "    start = x*1000\n",
    "    end = x*1000+1000\n",
    "    print(str(start)+'-'+str(end))\n",
    "    \n",
    "    json_value = json.dumps({'value':value[start:end]}, ensure_ascii=False,indent=2)\n",
    "    post_value = requests.post(content_url, headers=headers, data = json_value)\n",
    "    \n",
    "    print('Status Code:'+str(post_value.status_code))"
   ]
  },
  {
   "cell_type": "markdown",
   "metadata": {},
   "source": [
    "## Query the Index\n",
    "\n",
    "We'll query the index three times.  1.) Without any scoring profile, 2.) with the Linear scoring profile, and 3.) with the Quadratic scoring profile."
   ]
  },
  {
   "cell_type": "code",
   "execution_count": 21,
   "metadata": {},
   "outputs": [],
   "source": [
    "QUERY = 'bakery'"
   ]
  },
  {
   "cell_type": "markdown",
   "metadata": {},
   "source": [
    "The following functions help to simplify the query processing parts in the cells further below.\n",
    "\n",
    "Mainly creating a wrapper to take the request, bring only the columns we're interested in and then create a DataFrame for further exploration / display."
   ]
  },
  {
   "cell_type": "code",
   "execution_count": 22,
   "metadata": {},
   "outputs": [],
   "source": [
    "def query_index(params, headers, index, api):\n",
    "    \"\"\"Standard way of searching a particular index.\n",
    "    \"\"\"\n",
    "    search_url = ''.join([URL, '/indexes/',index,'/docs?api-version=',api])\n",
    "    results = requests.get(search_url, params=params,headers=headers)\n",
    "    return results    "
   ]
  },
  {
   "cell_type": "code",
   "execution_count": 23,
   "metadata": {},
   "outputs": [],
   "source": [
    "def unpack_id_scores(results):\n",
    "    \"\"\"Takes query results and returns a dictionary ready to be ingested as a dataframe\n",
    "    \"\"\"\n",
    "    list_of_dicts = []\n",
    "    for element in results:\n",
    "        docid = int(element['sic4'][4:])\n",
    "        score = element['@search.score']\n",
    "        upd = element['updateDate']\n",
    "        list_of_dicts.append({'doc':docid,'score':score,'updateDate':upd})\n",
    "    return list_of_dicts"
   ]
  },
  {
   "cell_type": "code",
   "execution_count": 24,
   "metadata": {},
   "outputs": [],
   "source": [
    "def query_to_df(results):\n",
    "    \"\"\"Returns a DataFrame (sorted on doc column).  \n",
    "    Requires the ['value'] section of a Azure Search json result.\n",
    "    \"\"\"\n",
    "    list_of_dicts = unpack_id_scores(results)\n",
    "    return pd.DataFrame(list_of_dicts).sort_values(by=[\"doc\"])"
   ]
  },
  {
   "cell_type": "markdown",
   "metadata": {},
   "source": [
    "## Use Search Profile on the Index to Boost Pages\n",
    "\n",
    "Now we use the newerPagesLIN and newerPagesQUAD scoring profiles to enhance the scores.  You can see that the pages are returned in the same order but with slightly different score.\n",
    "\n",
    "More on the Scoring Profiles and Interpolation https://docs.microsoft.com/en-us/rest/api/searchservice/add-scoring-profiles-to-a-search-index#bkmk_interpolation"
   ]
  },
  {
   "cell_type": "code",
   "execution_count": 25,
   "metadata": {},
   "outputs": [
    {
     "data": {
      "text/html": [
       "<div>\n",
       "<style scoped>\n",
       "    .dataframe tbody tr th:only-of-type {\n",
       "        vertical-align: middle;\n",
       "    }\n",
       "\n",
       "    .dataframe tbody tr th {\n",
       "        vertical-align: top;\n",
       "    }\n",
       "\n",
       "    .dataframe thead th {\n",
       "        text-align: right;\n",
       "    }\n",
       "</style>\n",
       "<table border=\"1\" class=\"dataframe\">\n",
       "  <thead>\n",
       "    <tr style=\"text-align: right;\">\n",
       "      <th></th>\n",
       "      <th>doc</th>\n",
       "      <th>score</th>\n",
       "      <th>updateDate</th>\n",
       "    </tr>\n",
       "  </thead>\n",
       "  <tbody>\n",
       "    <tr>\n",
       "      <th>12</th>\n",
       "      <td>0</td>\n",
       "      <td>0.064849</td>\n",
       "      <td>2018-01-24T14:52:40Z</td>\n",
       "    </tr>\n",
       "    <tr>\n",
       "      <th>0</th>\n",
       "      <td>1</td>\n",
       "      <td>0.064849</td>\n",
       "      <td>2018-01-23T14:52:40Z</td>\n",
       "    </tr>\n",
       "    <tr>\n",
       "      <th>2</th>\n",
       "      <td>2</td>\n",
       "      <td>0.064849</td>\n",
       "      <td>2018-01-22T14:52:40Z</td>\n",
       "    </tr>\n",
       "    <tr>\n",
       "      <th>4</th>\n",
       "      <td>3</td>\n",
       "      <td>0.064849</td>\n",
       "      <td>2018-01-21T14:52:40Z</td>\n",
       "    </tr>\n",
       "    <tr>\n",
       "      <th>6</th>\n",
       "      <td>4</td>\n",
       "      <td>0.064849</td>\n",
       "      <td>2018-01-20T14:52:40Z</td>\n",
       "    </tr>\n",
       "  </tbody>\n",
       "</table>\n",
       "</div>"
      ],
      "text/plain": [
       "    doc     score            updateDate\n",
       "12    0  0.064849  2018-01-24T14:52:40Z\n",
       "0     1  0.064849  2018-01-23T14:52:40Z\n",
       "2     2  0.064849  2018-01-22T14:52:40Z\n",
       "4     3  0.064849  2018-01-21T14:52:40Z\n",
       "6     4  0.064849  2018-01-20T14:52:40Z"
      ]
     },
     "execution_count": 25,
     "metadata": {},
     "output_type": "execute_result"
    }
   ],
   "source": [
    "no_profile = query_index({'search':QUERY}, headers, INDEX_NAME, API)\n",
    "norm_df = query_to_df(no_profile.json()['value'])\n",
    "norm_df.head()"
   ]
  },
  {
   "cell_type": "code",
   "execution_count": 26,
   "metadata": {},
   "outputs": [
    {
     "data": {
      "text/html": [
       "<div>\n",
       "<style scoped>\n",
       "    .dataframe tbody tr th:only-of-type {\n",
       "        vertical-align: middle;\n",
       "    }\n",
       "\n",
       "    .dataframe tbody tr th {\n",
       "        vertical-align: top;\n",
       "    }\n",
       "\n",
       "    .dataframe thead th {\n",
       "        text-align: right;\n",
       "    }\n",
       "</style>\n",
       "<table border=\"1\" class=\"dataframe\">\n",
       "  <thead>\n",
       "    <tr style=\"text-align: right;\">\n",
       "      <th></th>\n",
       "      <th>doc</th>\n",
       "      <th>score</th>\n",
       "      <th>updateDate</th>\n",
       "    </tr>\n",
       "  </thead>\n",
       "  <tbody>\n",
       "    <tr>\n",
       "      <th>0</th>\n",
       "      <td>0</td>\n",
       "      <td>0.638763</td>\n",
       "      <td>2018-01-24T14:52:40Z</td>\n",
       "    </tr>\n",
       "    <tr>\n",
       "      <th>1</th>\n",
       "      <td>1</td>\n",
       "      <td>0.599854</td>\n",
       "      <td>2018-01-23T14:52:40Z</td>\n",
       "    </tr>\n",
       "    <tr>\n",
       "      <th>2</th>\n",
       "      <td>2</td>\n",
       "      <td>0.560944</td>\n",
       "      <td>2018-01-22T14:52:40Z</td>\n",
       "    </tr>\n",
       "    <tr>\n",
       "      <th>3</th>\n",
       "      <td>3</td>\n",
       "      <td>0.522035</td>\n",
       "      <td>2018-01-21T14:52:40Z</td>\n",
       "    </tr>\n",
       "    <tr>\n",
       "      <th>4</th>\n",
       "      <td>4</td>\n",
       "      <td>0.483125</td>\n",
       "      <td>2018-01-20T14:52:40Z</td>\n",
       "    </tr>\n",
       "  </tbody>\n",
       "</table>\n",
       "</div>"
      ],
      "text/plain": [
       "   doc     score            updateDate\n",
       "0    0  0.638763  2018-01-24T14:52:40Z\n",
       "1    1  0.599854  2018-01-23T14:52:40Z\n",
       "2    2  0.560944  2018-01-22T14:52:40Z\n",
       "3    3  0.522035  2018-01-21T14:52:40Z\n",
       "4    4  0.483125  2018-01-20T14:52:40Z"
      ]
     },
     "execution_count": 26,
     "metadata": {},
     "output_type": "execute_result"
    }
   ],
   "source": [
    "lin_profile = query_index(\n",
    "    {'search':QUERY,'scoringProfile':'newerPagesLIN'},\n",
    "    headers, INDEX_NAME, API)\n",
    "lin_df = query_to_df(lin_profile.json()['value'])\n",
    "lin_df.head()"
   ]
  },
  {
   "cell_type": "code",
   "execution_count": 27,
   "metadata": {},
   "outputs": [
    {
     "data": {
      "text/html": [
       "<div>\n",
       "<style scoped>\n",
       "    .dataframe tbody tr th:only-of-type {\n",
       "        vertical-align: middle;\n",
       "    }\n",
       "\n",
       "    .dataframe tbody tr th {\n",
       "        vertical-align: top;\n",
       "    }\n",
       "\n",
       "    .dataframe thead th {\n",
       "        text-align: right;\n",
       "    }\n",
       "</style>\n",
       "<table border=\"1\" class=\"dataframe\">\n",
       "  <thead>\n",
       "    <tr style=\"text-align: right;\">\n",
       "      <th></th>\n",
       "      <th>doc</th>\n",
       "      <th>score</th>\n",
       "      <th>updateDate</th>\n",
       "    </tr>\n",
       "  </thead>\n",
       "  <tbody>\n",
       "    <tr>\n",
       "      <th>0</th>\n",
       "      <td>0</td>\n",
       "      <td>0.629198</td>\n",
       "      <td>2018-01-24T14:52:40Z</td>\n",
       "    </tr>\n",
       "    <tr>\n",
       "      <th>1</th>\n",
       "      <td>1</td>\n",
       "      <td>0.555270</td>\n",
       "      <td>2018-01-23T14:52:40Z</td>\n",
       "    </tr>\n",
       "    <tr>\n",
       "      <th>2</th>\n",
       "      <td>2</td>\n",
       "      <td>0.486530</td>\n",
       "      <td>2018-01-22T14:52:40Z</td>\n",
       "    </tr>\n",
       "    <tr>\n",
       "      <th>3</th>\n",
       "      <td>3</td>\n",
       "      <td>0.422978</td>\n",
       "      <td>2018-01-21T14:52:40Z</td>\n",
       "    </tr>\n",
       "    <tr>\n",
       "      <th>4</th>\n",
       "      <td>4</td>\n",
       "      <td>0.364614</td>\n",
       "      <td>2018-01-20T14:52:40Z</td>\n",
       "    </tr>\n",
       "  </tbody>\n",
       "</table>\n",
       "</div>"
      ],
      "text/plain": [
       "   doc     score            updateDate\n",
       "0    0  0.629198  2018-01-24T14:52:40Z\n",
       "1    1  0.555270  2018-01-23T14:52:40Z\n",
       "2    2  0.486530  2018-01-22T14:52:40Z\n",
       "3    3  0.422978  2018-01-21T14:52:40Z\n",
       "4    4  0.364614  2018-01-20T14:52:40Z"
      ]
     },
     "execution_count": 27,
     "metadata": {},
     "output_type": "execute_result"
    }
   ],
   "source": [
    "quad_profile = query_index(\n",
    "    {'search':QUERY,'scoringProfile':'newerPagesQUAD'},\n",
    "    headers, INDEX_NAME, API)\n",
    "quad_df = query_to_df(quad_profile.json()['value'])\n",
    "quad_df.head()"
   ]
  },
  {
   "cell_type": "markdown",
   "metadata": {},
   "source": [
    "Now let's get the full data and see that linear and quadratic trend."
   ]
  },
  {
   "cell_type": "code",
   "execution_count": 28,
   "metadata": {},
   "outputs": [
    {
     "data": {
      "image/png": "[encoded data removed]",
      "text/plain": [
       "<matplotlib.figure.Figure at 0x1f579e88198>"
      ]
     },
     "metadata": {},
     "output_type": "display_data"
    }
   ],
   "source": [
    "plt.plot(lin_df['doc'],lin_df['score'],color=\"red\",label=\"Linear\")\n",
    "plt.plot(quad_df['doc'],quad_df['score'],color=\"blue\",label=\"Quadratic\")\n",
    "plt.legend(loc='best')\n",
    "plt.show()"
   ]
  },
  {
   "cell_type": "code",
   "execution_count": 29,
   "metadata": {},
   "outputs": [],
   "source": [
    "merged_df = lin_df.merge(right=quad_df, how=\"inner\", on=[\"doc\"]).\\\n",
    "merge(right=norm_df, how=\"inner\", on='doc')\n",
    "\n",
    "final_df = merged_df[merged_df.columns.drop(['updateDate_x','updateDate_y','updateDate'])]\n",
    "\n",
    "final_df = final_df.rename(columns={'score_x': 'linBoost', 'score_y': 'quadBoost', 'score':'normal'})"
   ]
  },
  {
   "cell_type": "code",
   "execution_count": 30,
   "metadata": {},
   "outputs": [
    {
     "data": {
      "text/html": [
       "<div>\n",
       "<style scoped>\n",
       "    .dataframe tbody tr th:only-of-type {\n",
       "        vertical-align: middle;\n",
       "    }\n",
       "\n",
       "    .dataframe tbody tr th {\n",
       "        vertical-align: top;\n",
       "    }\n",
       "\n",
       "    .dataframe thead th {\n",
       "        text-align: right;\n",
       "    }\n",
       "</style>\n",
       "<table border=\"1\" class=\"dataframe\">\n",
       "  <thead>\n",
       "    <tr style=\"text-align: right;\">\n",
       "      <th></th>\n",
       "      <th>doc</th>\n",
       "      <th>linBoost</th>\n",
       "      <th>quadBoost</th>\n",
       "      <th>normal</th>\n",
       "    </tr>\n",
       "  </thead>\n",
       "  <tbody>\n",
       "    <tr>\n",
       "      <th>0</th>\n",
       "      <td>0</td>\n",
       "      <td>0.638763</td>\n",
       "      <td>0.629198</td>\n",
       "      <td>0.064849</td>\n",
       "    </tr>\n",
       "    <tr>\n",
       "      <th>1</th>\n",
       "      <td>1</td>\n",
       "      <td>0.599854</td>\n",
       "      <td>0.555270</td>\n",
       "      <td>0.064849</td>\n",
       "    </tr>\n",
       "    <tr>\n",
       "      <th>2</th>\n",
       "      <td>2</td>\n",
       "      <td>0.560944</td>\n",
       "      <td>0.486530</td>\n",
       "      <td>0.064849</td>\n",
       "    </tr>\n",
       "    <tr>\n",
       "      <th>3</th>\n",
       "      <td>3</td>\n",
       "      <td>0.522035</td>\n",
       "      <td>0.422978</td>\n",
       "      <td>0.064849</td>\n",
       "    </tr>\n",
       "    <tr>\n",
       "      <th>4</th>\n",
       "      <td>4</td>\n",
       "      <td>0.483125</td>\n",
       "      <td>0.364614</td>\n",
       "      <td>0.064849</td>\n",
       "    </tr>\n",
       "    <tr>\n",
       "      <th>5</th>\n",
       "      <td>7</td>\n",
       "      <td>0.366397</td>\n",
       "      <td>0.220649</td>\n",
       "      <td>0.064849</td>\n",
       "    </tr>\n",
       "    <tr>\n",
       "      <th>6</th>\n",
       "      <td>8</td>\n",
       "      <td>0.327488</td>\n",
       "      <td>0.183036</td>\n",
       "      <td>0.064849</td>\n",
       "    </tr>\n",
       "    <tr>\n",
       "      <th>7</th>\n",
       "      <td>11</td>\n",
       "      <td>0.210759</td>\n",
       "      <td>0.101327</td>\n",
       "      <td>0.064849</td>\n",
       "    </tr>\n",
       "    <tr>\n",
       "      <th>8</th>\n",
       "      <td>12</td>\n",
       "      <td>0.171850</td>\n",
       "      <td>0.084466</td>\n",
       "      <td>0.064849</td>\n",
       "    </tr>\n",
       "    <tr>\n",
       "      <th>9</th>\n",
       "      <td>15</td>\n",
       "      <td>0.064849</td>\n",
       "      <td>0.064849</td>\n",
       "      <td>0.064849</td>\n",
       "    </tr>\n",
       "    <tr>\n",
       "      <th>10</th>\n",
       "      <td>16</td>\n",
       "      <td>0.064849</td>\n",
       "      <td>0.064849</td>\n",
       "      <td>0.064849</td>\n",
       "    </tr>\n",
       "    <tr>\n",
       "      <th>11</th>\n",
       "      <td>17</td>\n",
       "      <td>0.064849</td>\n",
       "      <td>0.064849</td>\n",
       "      <td>0.064849</td>\n",
       "    </tr>\n",
       "    <tr>\n",
       "      <th>12</th>\n",
       "      <td>18</td>\n",
       "      <td>0.064849</td>\n",
       "      <td>0.064849</td>\n",
       "      <td>0.064849</td>\n",
       "    </tr>\n",
       "    <tr>\n",
       "      <th>13</th>\n",
       "      <td>19</td>\n",
       "      <td>0.064849</td>\n",
       "      <td>0.064849</td>\n",
       "      <td>0.064849</td>\n",
       "    </tr>\n",
       "  </tbody>\n",
       "</table>\n",
       "</div>"
      ],
      "text/plain": [
       "    doc  linBoost  quadBoost    normal\n",
       "0     0  0.638763   0.629198  0.064849\n",
       "1     1  0.599854   0.555270  0.064849\n",
       "2     2  0.560944   0.486530  0.064849\n",
       "3     3  0.522035   0.422978  0.064849\n",
       "4     4  0.483125   0.364614  0.064849\n",
       "5     7  0.366397   0.220649  0.064849\n",
       "6     8  0.327488   0.183036  0.064849\n",
       "7    11  0.210759   0.101327  0.064849\n",
       "8    12  0.171850   0.084466  0.064849\n",
       "9    15  0.064849   0.064849  0.064849\n",
       "10   16  0.064849   0.064849  0.064849\n",
       "11   17  0.064849   0.064849  0.064849\n",
       "12   18  0.064849   0.064849  0.064849\n",
       "13   19  0.064849   0.064849  0.064849"
      ]
     },
     "execution_count": 30,
     "metadata": {},
     "output_type": "execute_result"
    }
   ],
   "source": [
    "final_df.head(35)"
   ]
  },
  {
   "cell_type": "markdown",
   "metadata": {},
   "source": [
    "So what does this all mean?  For a quadratic interpolation, a *recent* one day difference carries a harher penalty than an *older* one day difference.  This makes sense when you want to really push new content and there's a slow decrease in the benefit of being new until you reach the end of the boosting period (in our case, 15 days) and then the benefit disappears completely."
   ]
  },
  {
   "cell_type": "code",
   "execution_count": 31,
   "metadata": {},
   "outputs": [
    {
     "data": {
      "text/html": [
       "<div>\n",
       "<style scoped>\n",
       "    .dataframe tbody tr th:only-of-type {\n",
       "        vertical-align: middle;\n",
       "    }\n",
       "\n",
       "    .dataframe tbody tr th {\n",
       "        vertical-align: top;\n",
       "    }\n",
       "\n",
       "    .dataframe thead th {\n",
       "        text-align: right;\n",
       "    }\n",
       "</style>\n",
       "<table border=\"1\" class=\"dataframe\">\n",
       "  <thead>\n",
       "    <tr style=\"text-align: right;\">\n",
       "      <th></th>\n",
       "      <th>linBoost</th>\n",
       "      <th>quadBoost</th>\n",
       "      <th>normal</th>\n",
       "    </tr>\n",
       "    <tr>\n",
       "      <th>doc</th>\n",
       "      <th></th>\n",
       "      <th></th>\n",
       "      <th></th>\n",
       "    </tr>\n",
       "  </thead>\n",
       "  <tbody>\n",
       "    <tr>\n",
       "      <th>0</th>\n",
       "      <td>NaN</td>\n",
       "      <td>NaN</td>\n",
       "      <td>NaN</td>\n",
       "    </tr>\n",
       "    <tr>\n",
       "      <th>1</th>\n",
       "      <td>-0.038909</td>\n",
       "      <td>-0.073928</td>\n",
       "      <td>0.0</td>\n",
       "    </tr>\n",
       "    <tr>\n",
       "      <th>2</th>\n",
       "      <td>-0.038909</td>\n",
       "      <td>-0.068740</td>\n",
       "      <td>0.0</td>\n",
       "    </tr>\n",
       "    <tr>\n",
       "      <th>3</th>\n",
       "      <td>-0.038909</td>\n",
       "      <td>-0.063552</td>\n",
       "      <td>0.0</td>\n",
       "    </tr>\n",
       "    <tr>\n",
       "      <th>4</th>\n",
       "      <td>-0.038909</td>\n",
       "      <td>-0.058364</td>\n",
       "      <td>0.0</td>\n",
       "    </tr>\n",
       "    <tr>\n",
       "      <th>7</th>\n",
       "      <td>-0.116728</td>\n",
       "      <td>-0.143965</td>\n",
       "      <td>0.0</td>\n",
       "    </tr>\n",
       "    <tr>\n",
       "      <th>8</th>\n",
       "      <td>-0.038909</td>\n",
       "      <td>-0.037612</td>\n",
       "      <td>0.0</td>\n",
       "    </tr>\n",
       "    <tr>\n",
       "      <th>11</th>\n",
       "      <td>-0.116728</td>\n",
       "      <td>-0.081710</td>\n",
       "      <td>0.0</td>\n",
       "    </tr>\n",
       "    <tr>\n",
       "      <th>12</th>\n",
       "      <td>-0.038909</td>\n",
       "      <td>-0.016861</td>\n",
       "      <td>0.0</td>\n",
       "    </tr>\n",
       "    <tr>\n",
       "      <th>15</th>\n",
       "      <td>-0.107001</td>\n",
       "      <td>-0.019617</td>\n",
       "      <td>0.0</td>\n",
       "    </tr>\n",
       "    <tr>\n",
       "      <th>16</th>\n",
       "      <td>0.000000</td>\n",
       "      <td>0.000000</td>\n",
       "      <td>0.0</td>\n",
       "    </tr>\n",
       "    <tr>\n",
       "      <th>17</th>\n",
       "      <td>0.000000</td>\n",
       "      <td>0.000000</td>\n",
       "      <td>0.0</td>\n",
       "    </tr>\n",
       "    <tr>\n",
       "      <th>18</th>\n",
       "      <td>0.000000</td>\n",
       "      <td>0.000000</td>\n",
       "      <td>0.0</td>\n",
       "    </tr>\n",
       "    <tr>\n",
       "      <th>19</th>\n",
       "      <td>0.000000</td>\n",
       "      <td>0.000000</td>\n",
       "      <td>0.0</td>\n",
       "    </tr>\n",
       "  </tbody>\n",
       "</table>\n",
       "</div>"
      ],
      "text/plain": [
       "     linBoost  quadBoost  normal\n",
       "doc                             \n",
       "0         NaN        NaN     NaN\n",
       "1   -0.038909  -0.073928     0.0\n",
       "2   -0.038909  -0.068740     0.0\n",
       "3   -0.038909  -0.063552     0.0\n",
       "4   -0.038909  -0.058364     0.0\n",
       "7   -0.116728  -0.143965     0.0\n",
       "8   -0.038909  -0.037612     0.0\n",
       "11  -0.116728  -0.081710     0.0\n",
       "12  -0.038909  -0.016861     0.0\n",
       "15  -0.107001  -0.019617     0.0\n",
       "16   0.000000   0.000000     0.0\n",
       "17   0.000000   0.000000     0.0\n",
       "18   0.000000   0.000000     0.0\n",
       "19   0.000000   0.000000     0.0"
      ]
     },
     "execution_count": 31,
     "metadata": {},
     "output_type": "execute_result"
    }
   ],
   "source": [
    "diffs = final_df.set_index('doc').diff()\n",
    "diffs"
   ]
  },
  {
   "cell_type": "markdown",
   "metadata": {},
   "source": [
    "### What does this all mean?\n",
    "\n",
    "This shows the Quadratic and Linear interpolations on a regular interval.  You can use these different interpolations to help boost content using your scoring profile.  If going from six days old to seven days old feels the same as going from 14 to 15 days old, stick with Linear.  \n",
    "\n",
    "If you believe that there's little benefit in boosting 14 days old more than 15 days old but there's a big difference in boosting one day from two days then Quadratic is a better route for you."
   ]
  }
 ],
 "metadata": {
  "kernelspec": {
   "display_name": "Python 3",
   "language": "python",
   "name": "python3"
  },
  "language_info": {
   "codemirror_mode": {
    "name": "ipython",
    "version": 3
   },
   "file_extension": ".py",
   "mimetype": "text/x-python",
   "name": "python",
   "nbconvert_exporter": "python",
   "pygments_lexer": "ipython3",
   "version": "3.6.4"
  }
 },
 "nbformat": 4,
 "nbformat_minor": 2
}
